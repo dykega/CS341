{
 "metadata": {
  "name": "",
  "signature": "sha256:c557559b0eca5d19adf310cbc58064c6c5f7209317887b875b294c999bda9301"
 },
 "nbformat": 3,
 "nbformat_minor": 0,
 "worksheets": [
  {
   "cells": [
    {
     "cell_type": "heading",
     "level": 1,
     "metadata": {},
     "source": [
      "Aloha Protocol"
     ]
    },
    {
     "cell_type": "code",
     "collapsed": false,
     "input": [
      "import random\n",
      "\n",
      "n = 15  # number of users\n",
      "frames = 1000 # number of frames sent\n",
      "probs = [0.1, 0.2 ,0.3 ,0.4 , 0.5 , 0.6 , 0.7 , 0.8 , 0.9] #probabilities of sending\n",
      "print(\"Using\",frames,\"frames and\",n,\"users...\")\n",
      "\n",
      "for p in probs:\n",
      "    success = 0\n",
      "    for frame in range(frames):\n",
      "        numSent = 0\n",
      "        for user in range(n):\n",
      "            sendProb = random.random()\n",
      "            if sendProb < p:\n",
      "                numSent += 1\n",
      "        if numSent == 1:\n",
      "            success += 1\n",
      "\n",
      "    print(\"Using p of\",p,\"there were\",str((success/frames)*100) + \"%\",\"successful frames\")\n",
      "\n"
     ],
     "language": "python",
     "metadata": {},
     "outputs": [
      {
       "output_type": "stream",
       "stream": "stdout",
       "text": [
        "Using 1000 frames and 15 users...\n",
        "Using p of 0.1 there were 37.4% successful frames\n",
        "Using p of 0.2 there were 13.5% successful frames\n",
        "Using p of 0.3 there were 3.0% successful frames\n",
        "Using p of 0.4 there were 0.1% successful frames\n",
        "Using p of 0.5 there were 0.0% successful frames\n",
        "Using p of 0.6 there were 0.0% successful frames\n",
        "Using p of 0.7 there were 0.0% successful frames\n",
        "Using p of 0.8 there were 0.0% successful frames\n",
        "Using p of 0.9 there were 0.0% successful frames\n"
       ]
      }
     ],
     "prompt_number": 7
    }
   ],
   "metadata": {}
  }
 ]
}