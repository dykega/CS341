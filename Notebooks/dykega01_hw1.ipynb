{
 "metadata": {
  "name": "",
  "signature": "sha256:b014871a7319b81bafb2bdc0b1cc1044f30fb8540bc42c96cfc9013227fa7bf8"
 },
 "nbformat": 3,
 "nbformat_minor": 0,
 "worksheets": [
  {
   "cells": [
    {
     "cell_type": "markdown",
     "metadata": {},
     "source": [
      "<h3>Problem 7:</h3>"
     ]
    },
    {
     "cell_type": "code",
     "collapsed": false,
     "input": [
      "aConverter = 64000 #bits per second\n",
      "aPacket = 56 * 8 # bits per packet\n",
      "linkTrans = 2e6 # bits per second\n",
      "linkProp = 10e-3 #seconds\n",
      "\n",
      "oneBitTime = (aPacket / aConverter) + (aPacket / linkTrans) + linkProp\n",
      "print('Total time is ' + str(oneBitTime) + ' seconds.')\n"
     ],
     "language": "python",
     "metadata": {},
     "outputs": [
      {
       "output_type": "stream",
       "stream": "stdout",
       "text": [
        "Total time is 0.017224 seconds.\n"
       ]
      }
     ],
     "prompt_number": 9
    },
    {
     "cell_type": "markdown",
     "metadata": {},
     "source": [
      "<h3>Problem 18:</h3>"
     ]
    },
    {
     "cell_type": "markdown",
     "metadata": {},
     "source": [
      "<table>\n",
      "        <tr>\n",
      "            <th>Test Type</th>\n",
      "            <th>Average Delay</th>\n",
      "            <th>Std Dev</th>\n",
      "        </tr>\n",
      "        <tr>\n",
      "            <td>Intra-continent</td>\n",
      "            <td>59.795</td>\n",
      "            <td>0.027</td>\n",
      "        </tr>\n",
      "        <tr>\n",
      "            <td>Inter-continent</td>\n",
      "            <td>103.462</td>\n",
      "            <td>2.350</td>\n",
      "       </tr>\n",
      "   </table>\n",
      "\n",
      "\n",
      "<table>\n",
      "     <tr>\n",
      "        <th>Location 1</th>\n",
      "        <th>Location 2</th>\n",
      "        <th>Time</th>\n",
      "        <th>Delay</th>\n",
      "        <th>Number of Routers</th>\n",
      "        <th>Number of ISPs</th>\n",
      "        <th>Biggest delay</th>\n",
      "     </tr>\n",
      "     <tr>\n",
      "        <td>Decorah IA</td>\n",
      "        <td>Stanford University</td>\n",
      "        <td>3:20 PM</td>\n",
      "        <td>59.764 ms</td>\n",
      "        <td>13</td>\n",
      "        <td>6</td>\n",
      "        <td>Between different ISPs</td>\n",
      "    </tr>\n",
      "    <tr>\n",
      "        <td>Decorah IA</td>\n",
      "        <td>Stanford University</td>\n",
      "        <td>4:10 PM</td>\n",
      "        <td>59.812 ms</td>\n",
      "        <td>13</td>\n",
      "        <td>6</td>\n",
      "        <td>Between different ISPs</td>\n",
      "    </tr>\n",
      "    <tr>\n",
      "        <td>Decorah IA</td>\n",
      "        <td>Stanford University</td>\n",
      "        <td>6:30 PM</td>\n",
      "        <td>59.811 ms</td>\n",
      "        <td>13</td>\n",
      "        <td>6</td>\n",
      "        <td>Between different ISPs</td>\n",
      "    </tr>\n",
      "    <tr>\n",
      "        <td>Decorah IA</td>\n",
      "        <td>United Kingdom</td>\n",
      "        <td>3:30 PM</td>\n",
      "        <td>102.076 ms</td>\n",
      "        <td>12</td>\n",
      "        <td>6</td>\n",
      "        <td>Between different ISPs</td>\n",
      "    </tr>\n",
      "  \n",
      "    <tr>\n",
      "        <td>Decorah IA</td>\n",
      "        <td>United Kingdom</td>\n",
      "        <td>4:10 PM</td>\n",
      "        <td>102.135 ms</td>\n",
      "        <td>11</td>\n",
      "        <td>6</td>\n",
      "        <td>Between different ISPs</td>\n",
      "    </tr>\n",
      "    <tr>\n",
      "        <td>Decorah IA</td>\n",
      "        <td>United Kingdom</td>\n",
      "        <td>6:30 PM</td>\n",
      "        <td>106.1750 ms</td>\n",
      "        <td>17</td>\n",
      "        <td>6</td>\n",
      "        <td>Between different ISPs</td>\n",
      "    </tr>\n",
      "    </table>    \n",
      "    \n",
      "   \n",
      "   "
     ]
    },
    {
     "cell_type": "markdown",
     "metadata": {},
     "source": [
      "b.  The paths did change during the times of the day for the inter-continent but not the intra-continent test.\n",
      "c.  The largest delays came when the packets were sent between different ISPs rather than within the same ISP.\n",
      "d.  The inter-continent tests took longer than the intra-continent ones did, but also varied more in time and paths than the intra-continent tests did."
     ]
    },
    {
     "cell_type": "markdown",
     "metadata": {},
     "source": [
      "<h3>Problem 24:</h3>"
     ]
    },
    {
     "cell_type": "code",
     "collapsed": false,
     "input": [
      "data = 40e12 * 8 #bits of data\n",
      "speed = 100e6 #bits per second\n",
      "timeSeconds = data / speed\n",
      "timeDays = timeSeconds / (60 * 60 * 24)\n",
      "print(\"Transfer time would be\",timeDays,\"days.\\n\")\n",
      "print(\"I would prefer to FedEx overnight because otherwise it would \\ntake about 37 days for all of the data to be sent via wire.\")\n"
     ],
     "language": "python",
     "metadata": {},
     "outputs": [
      {
       "output_type": "stream",
       "stream": "stdout",
       "text": [
        "Transfer time would be 37.03703703703704 days.\n",
        "\n",
        "I would prefer to FedEx overnight because otherwise it would \n",
        "take about 37 days for all of the data to be sent via wire.\n"
       ]
      }
     ],
     "prompt_number": 17
    },
    {
     "cell_type": "code",
     "collapsed": false,
     "input": [],
     "language": "python",
     "metadata": {},
     "outputs": []
    }
   ],
   "metadata": {}
  }
 ]
}