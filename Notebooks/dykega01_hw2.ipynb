{
 "metadata": {
  "name": "",
  "signature": "sha256:91b5e3347a63b945c16979765d41ea1048f0516d4d83abb533c2d35d8f4b9d06"
 },
 "nbformat": 3,
 "nbformat_minor": 0,
 "worksheets": [
  {
   "cells": [
    {
     "cell_type": "raw",
     "metadata": {},
     "source": [
      "P7.\t    RTT1 + RTT2 + \u2026 + RTTn + 2 * RTT0\n",
      "P8.a. \tRTT1 + RTT2 + \u2026 + RTTn + 16 * RTT0\n",
      "P8.b.\tRTT1 + RTT2 + \u2026 + RTTn + 4 * RTT0\n",
      "P8.c.\tRTT1 + RTT2 + \u2026 + RTTn + 2 * RTT0"
     ]
    }
   ],
   "metadata": {}
  }
 ]
}