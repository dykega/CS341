{
 "metadata": {
  "name": "",
  "signature": "sha256:b63a97af99ad8b565418f2ab49b9bd188c0901a9111dfe96e759a3c093c98c32"
 },
 "nbformat": 3,
 "nbformat_minor": 0,
 "worksheets": [
  {
   "cells": [
    {
     "cell_type": "markdown",
     "metadata": {},
     "source": [
      "## Domain Name System"
     ]
    },
    {
     "cell_type": "markdown",
     "metadata": {},
     "source": [
      "Here is a DNS message.  Answer the following questions about it:\n",
      "\n",
      "1. What is the ID number of the transaction?\n",
      "1. Is this is request or a response?\n",
      "2. Is recursion available or not?\n",
      "3. What is the type of the request?\n",
      "4. What is the name of the host that was requested?\n",
      "5. What is the IP Address of the host?\n",
      "6. Is the response authoritative?\n",
      "7. What is the value of the TTL field?\n",
      "\n",
      "Hint, you will definitely want to google and find the RFC or some other detailed source that describes the format of the request/response in detail.  You might also capture a DNS message in Wireshark, and use that as an example.\n",
      "\n",
      "<!-- 1875 in my trace -->"
     ]
    },
    {
     "cell_type": "markdown",
     "metadata": {},
     "source": [
      "    44 02 81 80 \n",
      "    00 01 00 01 \n",
      "    00 00 00 00 \n",
      "    0c 72 61 6d \n",
      "    62 6c 69 6e \n",
      "    77 72 65 63 \n",
      "    6b 03 63 6f \n",
      "    6d 00 00 01 \n",
      "    00 01 c0 0c \n",
      "    00 01 00 01 \n",
      "    00 00 06 2b \n",
      "    00 04 40 1e \n",
      "    e4 14"
     ]
    },
    {
     "cell_type": "markdown",
     "metadata": {},
     "source": [
      "### Bit Twiddling in Python"
     ]
    },
    {
     "cell_type": "code",
     "collapsed": false,
     "input": [
      "dec = int('0x10',16)\n",
      "dec"
     ],
     "language": "python",
     "metadata": {},
     "outputs": [
      {
       "metadata": {},
       "output_type": "pyout",
       "prompt_number": 3,
       "text": [
        "16"
       ]
      }
     ],
     "prompt_number": 3
    },
    {
     "cell_type": "code",
     "collapsed": false,
     "input": [
      "# logical and and or\n",
      "print(bin(16),bin(1),bin(16|1))\n",
      "print(bin(16),bin(1),bin(16&1))\n",
      "\n",
      "# Note that bin removes the leading zeros."
     ],
     "language": "python",
     "metadata": {},
     "outputs": [
      {
       "output_type": "stream",
       "stream": "stdout",
       "text": [
        "0b10000 0b1 0b10001\n",
        "0b10000 0b1 0b0\n"
       ]
      }
     ],
     "prompt_number": 16
    },
    {
     "cell_type": "code",
     "collapsed": false,
     "input": [
      "# Converting to characters -- Also you can google a hex ascii table\n",
      "chr(int('0x73',16))"
     ],
     "language": "python",
     "metadata": {},
     "outputs": [
      {
       "metadata": {},
       "output_type": "pyout",
       "prompt_number": 15,
       "text": [
        "'s'"
       ]
      }
     ],
     "prompt_number": 15
    },
    {
     "cell_type": "markdown",
     "metadata": {},
     "source": [
      "### Answers"
     ]
    },
    {
     "cell_type": "code",
     "collapsed": false,
     "input": [
      "id = int('0x4402',16)\n",
      "print('1. The ID is',id)"
     ],
     "language": "python",
     "metadata": {},
     "outputs": [
      {
       "output_type": "stream",
       "stream": "stdout",
       "text": [
        "1. The ID is 17410\n"
       ]
      }
     ],
     "prompt_number": 3
    },
    {
     "cell_type": "code",
     "collapsed": false,
     "input": [
      "def toBinStr(num,spaces=False):\n",
      "    num=bin(num)\n",
      "    num = str(num)\n",
      "    length = len(num)\n",
      "    outStr = ((8-(length-2)) * '0') + num[2:]\n",
      "    if spaces:\n",
      "        outStr = outStr[:4] + ' ' + outStr[4:]\n",
      "    return outStr\n",
      "\n",
      "flagsOne = toBinStr(81,True)\n",
      "flagsTwo = toBinStr(80, True)\n",
      "flagsOne + ' ' + flagsTwo"
     ],
     "language": "python",
     "metadata": {},
     "outputs": [
      {
       "metadata": {},
       "output_type": "pyout",
       "prompt_number": 22,
       "text": [
        "'0101 0001 0101 0000'"
       ]
      }
     ],
     "prompt_number": 22
    },
    {
     "cell_type": "markdown",
     "metadata": {},
     "source": [
      "2. Because the first index of flags is a 0, the message is a request\n",
      "3. Because the value at index 7 is a 1, recursion was requested"
     ]
    },
    {
     "cell_type": "code",
     "collapsed": false,
     "input": [
      "totalStr = toBinStr(81) + toBinStr(80)\n",
      "msgType = totalStr[1:5]\n",
      "int(msgType,2)\n"
     ],
     "language": "python",
     "metadata": {},
     "outputs": [
      {
       "metadata": {},
       "output_type": "pyout",
       "prompt_number": 34,
       "text": [
        "10"
       ]
      }
     ],
     "prompt_number": 34
    },
    {
     "cell_type": "code",
     "collapsed": false,
     "input": [],
     "language": "python",
     "metadata": {},
     "outputs": []
    }
   ],
   "metadata": {}
  }
 ]
}