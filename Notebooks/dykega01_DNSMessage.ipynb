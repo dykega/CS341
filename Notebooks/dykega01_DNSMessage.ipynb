{
 "metadata": {
  "name": "",
  "signature": "sha256:f30903e7f96a2faf59e4df722cf48b1c360afad1423fd4ac68c835cc84e8ae49"
 },
 "nbformat": 3,
 "nbformat_minor": 0,
 "worksheets": [
  {
   "cells": [
    {
     "cell_type": "markdown",
     "metadata": {},
     "source": [
      "## Domain Name System"
     ]
    },
    {
     "cell_type": "markdown",
     "metadata": {},
     "source": [
      "Here is a DNS message.  Answer the following questions about it:\n",
      "\n",
      "1. What is the ID number of the transaction?\n",
      "1. Is this is request or a response?\n",
      "2. Is recursion available or not?\n",
      "3. What is the type of the request?\n",
      "4. What is the name of the host that was requested?\n",
      "5. What is the IP Address of the host?\n",
      "6. Is the response authoritative?\n",
      "7. What is the value of the TTL field?\n",
      "\n",
      "Hint, you will definitely want to google and find the RFC or some other detailed source that describes the format of the request/response in detail.  You might also capture a DNS message in Wireshark, and use that as an example.\n",
      "\n",
      "<!-- 1875 in my trace -->"
     ]
    },
    {
     "cell_type": "markdown",
     "metadata": {},
     "source": [
      "    44 02 81 80 \n",
      "    00 01 00 01 \n",
      "    00 00 00 00 \n",
      "    0c 72 61 6d \n",
      "    62 6c 69 6e \n",
      "    77 72 65 63 \n",
      "    6b 03 63 6f \n",
      "    6d 00 00 01 \n",
      "    00 01 c0 0c \n",
      "    00 01 00 01 \n",
      "    00 00 06 2b \n",
      "    00 04 40 1e \n",
      "    e4 14"
     ]
    },
    {
     "cell_type": "markdown",
     "metadata": {},
     "source": [
      "### Bit Twiddling in Python"
     ]
    },
    {
     "cell_type": "code",
     "collapsed": false,
     "input": [
      "dec = int('0x10',16)\n",
      "dec"
     ],
     "language": "python",
     "metadata": {},
     "outputs": [
      {
       "metadata": {},
       "output_type": "pyout",
       "prompt_number": 28,
       "text": [
        "16"
       ]
      }
     ],
     "prompt_number": 28
    },
    {
     "cell_type": "code",
     "collapsed": false,
     "input": [
      "# logical and and or\n",
      "print(bin(16),bin(1),bin(16|1))\n",
      "print(bin(16),bin(1),bin(16&1))\n",
      "\n",
      "# Note that bin removes the leading zeros."
     ],
     "language": "python",
     "metadata": {},
     "outputs": [
      {
       "output_type": "stream",
       "stream": "stdout",
       "text": [
        "0b10000 0b1 0b10001\n",
        "0b10000 0b1 0b0\n"
       ]
      }
     ],
     "prompt_number": 29
    },
    {
     "cell_type": "code",
     "collapsed": false,
     "input": [
      "# Converting to characters -- Also you can google a hex ascii table\n",
      "chr(int('0x73',16))"
     ],
     "language": "python",
     "metadata": {},
     "outputs": [
      {
       "metadata": {},
       "output_type": "pyout",
       "prompt_number": 30,
       "text": [
        "'s'"
       ]
      }
     ],
     "prompt_number": 30
    },
    {
     "cell_type": "markdown",
     "metadata": {},
     "source": [
      "### Answers"
     ]
    },
    {
     "cell_type": "code",
     "collapsed": false,
     "input": [
      "id = int('0x4402',16)\n",
      "print('The ID is',id)"
     ],
     "language": "python",
     "metadata": {},
     "outputs": [
      {
       "output_type": "stream",
       "stream": "stdout",
       "text": [
        "The ID is 17410\n"
       ]
      }
     ],
     "prompt_number": 31
    },
    {
     "cell_type": "raw",
     "metadata": {},
     "source": [
      "1. The ID is 17410"
     ]
    },
    {
     "cell_type": "code",
     "collapsed": false,
     "input": [
      "def toBinStr(num,spaces=False):\n",
      "    num = int(num,16)\n",
      "    num=bin(num)\n",
      "    length = len(num)\n",
      "    outStr = ((8-(length-2)) * '0') + num[2:]\n",
      "    if spaces:\n",
      "        outStr = outStr[:4] + ' ' + outStr[4:]\n",
      "    return outStr\n",
      "\n",
      "flagsOne = toBinStr('0x81',True)\n",
      "flagsTwo = toBinStr('0x80', True)\n",
      "flagsOne + ' ' + flagsTwo"
     ],
     "language": "python",
     "metadata": {},
     "outputs": [
      {
       "metadata": {},
       "output_type": "pyout",
       "prompt_number": 32,
       "text": [
        "'1000 0001 1000 0000'"
       ]
      }
     ],
     "prompt_number": 32
    },
    {
     "cell_type": "raw",
     "metadata": {},
     "source": [
      "2. Because the first index of flags is a 1, the message is a response.\n",
      "3. Because the value at index 8 is a 1, recursion is available."
     ]
    },
    {
     "cell_type": "code",
     "collapsed": false,
     "input": [
      "totalStr = toBinStr('0x81') + toBinStr('0x80')\n",
      "msgType = totalStr[1:5]\n",
      "print(\"The type code is\",int(msgType,2))\n"
     ],
     "language": "python",
     "metadata": {},
     "outputs": [
      {
       "output_type": "stream",
       "stream": "stdout",
       "text": [
        "The type code is 0\n"
       ]
      }
     ],
     "prompt_number": 33
    },
    {
     "cell_type": "raw",
     "metadata": {},
     "source": [
      " 4. The type code is 0, which means it is a standard query"
     ]
    },
    {
     "cell_type": "code",
     "collapsed": false,
     "input": [
      "\n",
      "\n",
      "print(\"The length of the host name is\",str(int('0x0c',16)),' characters long.')\n",
      "print(\"The name of the requested host is 72 61 6d 62 6c 69 6e 77 72 65 63 6b in hex or 'ramblinwreck'\")\n",
      "print(\"The extension of the name is 3 bytes long and 63 6f 6d in hex or 'com'\")"
     ],
     "language": "python",
     "metadata": {},
     "outputs": [
      {
       "output_type": "stream",
       "stream": "stdout",
       "text": [
        "The length of the host name is 12  characters long.\n",
        "The name of the requested host is 72 61 6d 62 6c 69 6e 77 72 65 63 6b in hex or 'ramblinwreck'\n",
        "The extension of the name is 3 bytes long and 63 6f 6d in hex or 'com'\n"
       ]
      }
     ],
     "prompt_number": 34
    },
    {
     "cell_type": "raw",
     "metadata": {},
     "source": [
      "5. The requested host name is www.ramblinwreck.com"
     ]
    },
    {
     "cell_type": "code",
     "collapsed": false,
     "input": [
      "print(str(int('0x40',16)),str(int('0x1e',16)),str(int('0xe4',16)),str(int('0x14',16)))"
     ],
     "language": "python",
     "metadata": {},
     "outputs": [
      {
       "output_type": "stream",
       "stream": "stdout",
       "text": [
        "64 30 228 20\n"
       ]
      }
     ],
     "prompt_number": 35
    },
    {
     "cell_type": "raw",
     "metadata": {},
     "source": [
      "6.  The IP of the host is 64.30.228.20\n",
      "7.  The response is not authoritative because the number of authoritative responses is 0 in the message header."
     ]
    },
    {
     "cell_type": "code",
     "collapsed": false,
     "input": [
      "ttl = int('0x062b',16)\n",
      "print(\"The TTL is\",ttl,'seconds, or',ttl/60,'minutes.')"
     ],
     "language": "python",
     "metadata": {},
     "outputs": [
      {
       "output_type": "stream",
       "stream": "stdout",
       "text": [
        "The TTL is 1579 seconds, or 26.316666666666666 minutes.\n"
       ]
      }
     ],
     "prompt_number": 36
    },
    {
     "cell_type": "raw",
     "metadata": {},
     "source": [
      "8. The TTL is 1579 seconds, or 26.316666666666666 minutes."
     ]
    }
   ],
   "metadata": {}
  }
 ]
}